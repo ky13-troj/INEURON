{
 "cells": [
  {
   "cell_type": "markdown",
   "metadata": {},
   "source": [
    "1.What are the two values of the Boolean data type? How do you write them?"
   ]
  },
  {
   "cell_type": "markdown",
   "metadata": {},
   "source": [
    "Two values of the Boolean data type are True and False.\n",
    "\n",
    "To declare a boolean variable in python, we can use the following syntax:\n",
    "\n",
    "var_name = True"
   ]
  },
  {
   "cell_type": "code",
   "execution_count": 1,
   "metadata": {},
   "outputs": [
    {
     "name": "stdout",
     "output_type": "stream",
     "text": [
      "True: True\n",
      "False: False\n"
     ]
    }
   ],
   "source": [
    "true_var = True\n",
    "False_var = False\n",
    "\n",
    "print(f\"True: {true_var}\"\n",
    "      f\"\\nFalse: {False_var}\")"
   ]
  },
  {
   "cell_type": "markdown",
   "metadata": {},
   "source": [
    "2. What are the three different types of Boolean operators?"
   ]
  },
  {
   "cell_type": "markdown",
   "metadata": {},
   "source": [
    "ans : and, or, not"
   ]
  },
  {
   "cell_type": "markdown",
   "metadata": {},
   "source": [
    "3. Make a list of each Boolean operator's truth tables (i.e. every possible combination of Boolean\n",
    "values for the operator and what it evaluate )."
   ]
  },
  {
   "cell_type": "markdown",
   "metadata": {},
   "source": [
    "\n",
    "OR Table :\n",
    "\n",
    "| A |  B |  C |\n",
    "|---|----|----|\n",
    "| 0 |  0 |  0 |\n",
    "| 0 |  1 |  0 |\n",
    "| 1 |  0 |  0 |\n",
    "| 1 |  1 |  1 |\n",
    "\n",
    "\n",
    "AND Table :\n",
    "\n",
    "\n",
    "| A |  B |  C |\n",
    "|---|----|----|\n",
    "| 0 |  0 |  1 |\n",
    "| 0 |  1 |  1 |\n",
    "| 1 |  0 |  1 |\n",
    "| 1 |  1 |  0 |\n",
    "\n",
    "NOT Table :\n",
    "\n",
    "\n",
    "| I |  O |\n",
    "|---|----|\n",
    "| 0 |  1 |\n",
    "| 1 |  0 |"
   ]
  },
  {
   "cell_type": "markdown",
   "metadata": {},
   "source": [
    "4. What are the values of the following expressions?\n",
    "(5 > 4) and (3 == 5)\n",
    "not (5 > 4)\n",
    "(5 > 4) or (3 == 5)\n",
    "not ((5 > 4) or (3 == 5))\n",
    "(True and True) and (True == False)\n",
    "(not False) or (not True)"
   ]
  },
  {
   "cell_type": "markdown",
   "metadata": {},
   "source": [
    "1. False\n",
    "2. False\n",
    "3. True\n",
    "4. False\n",
    "5. False\n",
    "6. True"
   ]
  },
  {
   "cell_type": "markdown",
   "metadata": {},
   "source": [
    "5. What are the six comparison operators?"
   ]
  },
  {
   "cell_type": "markdown",
   "metadata": {},
   "source": [
    "1. >\n",
    "2. <\n",
    "3. '>='  # kept in inverted commas otherwise markdown is treating as some other thing\n",
    "4. <=\n",
    "5. ==\n",
    "6. !="
   ]
  },
  {
   "cell_type": "markdown",
   "metadata": {},
   "source": [
    "6. How do you tell the difference between the equal to and assignment operators?Describe a\n",
    "condition and when you would use one."
   ]
  },
  {
   "cell_type": "markdown",
   "metadata": {},
   "source": [
    "ans :  By looks assignment operator has one equal to sign(=) and other has two equal to signs(==).\n",
    "\n",
    "1. Use of assignment operator is used to assign value to a variable. [e.g.: c = 10 this will store the value 10 to variable c]\n",
    "2. Use of equal to operator is used to compare two values. [e.g. : \n",
    "                                                                    a==b this will return True or False according to the condition if a is equal to b or not.]"
   ]
  },
  {
   "cell_type": "markdown",
   "metadata": {},
   "source": [
    "7. Identify the three blocks in this code:\n",
    "spam = 0\n",
    "if spam == 10:\n",
    "    print('eggs')\n",
    "if spam == 5:\n",
    "    print('bacon')\n",
    "else:\n",
    "    print('ham')\n",
    "    print('spam')\n",
    "    print('spam')"
   ]
  },
  {
   "cell_type": "markdown",
   "metadata": {},
   "source": [
    "1st Section : spam = 0\n",
    "2nd Section : if spam == 10:\n",
    "                print('eggs')\n",
    "3rd Section : if spam == 5:\n",
    "                print('bacon')\n",
    "            else:\n",
    "                print('ham')\n",
    "                print('spam')\n",
    "                print('spam')"
   ]
  },
  {
   "cell_type": "markdown",
   "metadata": {},
   "source": [
    "8. Write code that prints Hello if 1 is stored in spam, prints Howdy if 2 is stored in spam, and prints\n",
    "Greetings! if anything else is stored in spam."
   ]
  },
  {
   "cell_type": "code",
   "execution_count": 2,
   "metadata": {},
   "outputs": [
    {
     "name": "stdout",
     "output_type": "stream",
     "text": [
      "Greetings!\n"
     ]
    }
   ],
   "source": [
    "spam =  input(\"Enter Value: \")\n",
    "\n",
    "if spam == '1':\n",
    "    print('Hello')\n",
    "elif spam == '2':\n",
    "    print('Howdy')\n",
    "else:\n",
    "    print('Greetings!')"
   ]
  },
  {
   "cell_type": "markdown",
   "metadata": {},
   "source": [
    "9.If your programme is stuck in an endless loop, what keys you’ll press?"
   ]
  },
  {
   "cell_type": "markdown",
   "metadata": {},
   "source": [
    "If the program is run through Command line/Terminal, we can use Ctrl+C to stop the program."
   ]
  },
  {
   "cell_type": "markdown",
   "metadata": {},
   "source": [
    "10. How can you tell the difference between break and continue?"
   ]
  },
  {
   "cell_type": "markdown",
   "metadata": {},
   "source": [
    "ans : The break statement is used to immediately stop the loop from executing the statements inside the loop. The continue statement is used to skip the current iteration of the loop and continue with the next iteration."
   ]
  },
  {
   "cell_type": "markdown",
   "metadata": {},
   "source": [
    "11. In a for loop, what is the difference between range(10), range(0, 10), and range(0, 10, 1)?"
   ]
  },
  {
   "cell_type": "markdown",
   "metadata": {},
   "source": [
    "ans : From Output point of view there is no difference between range(10) and range(0, 10) and range(0, 10, 1).\n",
    "But from the programming point of view, range(10) is used to create a list of numbers upto 10(less than 10 i.e, 9) and range(0, 10) is used to create a list of numbers from 0 to 9 and range(0, 10, 1) is used to create a list of numbers from 0 to 9 with a step of 1."
   ]
  },
  {
   "cell_type": "markdown",
   "metadata": {},
   "source": [
    "12. Write a short program that prints the numbers 1 to 10 using a for loop. Then write an equivalent\n",
    "program that prints the numbers 1 to 10 using a while loop."
   ]
  },
  {
   "cell_type": "code",
   "execution_count": 6,
   "metadata": {},
   "outputs": [
    {
     "name": "stdout",
     "output_type": "stream",
     "text": [
      "1\n",
      "2\n",
      "3\n",
      "4\n",
      "5\n",
      "6\n",
      "7\n",
      "8\n",
      "9\n",
      "10\n"
     ]
    }
   ],
   "source": [
    "# Using for Loop:\n",
    "for i in range(1, 11):\n",
    "    print(i)"
   ]
  },
  {
   "cell_type": "code",
   "execution_count": 8,
   "metadata": {},
   "outputs": [
    {
     "name": "stdout",
     "output_type": "stream",
     "text": [
      "1\n",
      "2\n",
      "3\n",
      "4\n",
      "5\n",
      "6\n",
      "7\n",
      "8\n",
      "9\n",
      "10\n"
     ]
    }
   ],
   "source": [
    "# Using while Loop:\n",
    "count = 1\n",
    "while count <= 10:\n",
    "    print(count)\n",
    "    count += 1"
   ]
  },
  {
   "cell_type": "markdown",
   "metadata": {},
   "source": [
    "13. If you had a function named bacon() inside a module named spam, how would you call it after\n",
    "importing spam?"
   ]
  },
  {
   "cell_type": "markdown",
   "metadata": {},
   "source": [
    "ans : spam.bacon()"
   ]
  }
 ],
 "metadata": {
  "kernelspec": {
   "display_name": "Python 3.7.2 64-bit",
   "language": "python",
   "name": "python3"
  },
  "language_info": {
   "codemirror_mode": {
    "name": "ipython",
    "version": 3
   },
   "file_extension": ".py",
   "mimetype": "text/x-python",
   "name": "python",
   "nbconvert_exporter": "python",
   "pygments_lexer": "ipython3",
   "version": "3.7.2"
  },
  "orig_nbformat": 4,
  "vscode": {
   "interpreter": {
    "hash": "559f37e3558dfc8d7680fb9b9cccb715e9b926dbbbc637b1a882abc506486495"
   }
  }
 },
 "nbformat": 4,
 "nbformat_minor": 2
}
